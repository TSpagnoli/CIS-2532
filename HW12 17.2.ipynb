{
 "cells": [
  {
   "cell_type": "code",
   "execution_count": 5,
   "id": "4f3f915e-76aa-4b25-a749-12254c61425e",
   "metadata": {},
   "outputs": [],
   "source": [
    "import sqlite3\n",
    "connection = sqlite3.connect('C:/Users/timmy/Desktop/COD/cis 2532 - python/assignment 12/ch17/books.db')"
   ]
  },
  {
   "cell_type": "code",
   "execution_count": 6,
   "id": "78b1c9db-9c44-44e9-8770-ee19b4b95fe1",
   "metadata": {},
   "outputs": [],
   "source": [
    "import pandas as pd"
   ]
  },
  {
   "cell_type": "code",
   "execution_count": 13,
   "id": "ce30f93a-740a-4da9-bf0a-3444732a656d",
   "metadata": {},
   "outputs": [
    {
     "data": {
      "text/html": [
       "<div>\n",
       "<style scoped>\n",
       "    .dataframe tbody tr th:only-of-type {\n",
       "        vertical-align: middle;\n",
       "    }\n",
       "\n",
       "    .dataframe tbody tr th {\n",
       "        vertical-align: top;\n",
       "    }\n",
       "\n",
       "    .dataframe thead th {\n",
       "        text-align: right;\n",
       "    }\n",
       "</style>\n",
       "<table border=\"1\" class=\"dataframe\">\n",
       "  <thead>\n",
       "    <tr style=\"text-align: right;\">\n",
       "      <th></th>\n",
       "      <th>isbn</th>\n",
       "      <th>title</th>\n",
       "      <th>edition</th>\n",
       "      <th>copyright</th>\n",
       "    </tr>\n",
       "  </thead>\n",
       "  <tbody>\n",
       "    <tr>\n",
       "      <th>0</th>\n",
       "      <td>0135404673</td>\n",
       "      <td>Intro to Python for CS and DS</td>\n",
       "      <td>1</td>\n",
       "      <td>2020</td>\n",
       "    </tr>\n",
       "    <tr>\n",
       "      <th>1</th>\n",
       "      <td>0132151006</td>\n",
       "      <td>Internet &amp; WWW How to Program</td>\n",
       "      <td>5</td>\n",
       "      <td>2012</td>\n",
       "    </tr>\n",
       "    <tr>\n",
       "      <th>2</th>\n",
       "      <td>0134743350</td>\n",
       "      <td>Java How to Program</td>\n",
       "      <td>11</td>\n",
       "      <td>2018</td>\n",
       "    </tr>\n",
       "    <tr>\n",
       "      <th>3</th>\n",
       "      <td>0133976890</td>\n",
       "      <td>C How to Program</td>\n",
       "      <td>8</td>\n",
       "      <td>2016</td>\n",
       "    </tr>\n",
       "    <tr>\n",
       "      <th>4</th>\n",
       "      <td>0133406954</td>\n",
       "      <td>Visual Basic 2012 How to Program</td>\n",
       "      <td>6</td>\n",
       "      <td>2014</td>\n",
       "    </tr>\n",
       "    <tr>\n",
       "      <th>5</th>\n",
       "      <td>0134601548</td>\n",
       "      <td>Visual C# How to Program</td>\n",
       "      <td>6</td>\n",
       "      <td>2017</td>\n",
       "    </tr>\n",
       "    <tr>\n",
       "      <th>6</th>\n",
       "      <td>0136151574</td>\n",
       "      <td>Visual C++ How to Program</td>\n",
       "      <td>2</td>\n",
       "      <td>2008</td>\n",
       "    </tr>\n",
       "    <tr>\n",
       "      <th>7</th>\n",
       "      <td>0134448235</td>\n",
       "      <td>C++ How to Program</td>\n",
       "      <td>10</td>\n",
       "      <td>2017</td>\n",
       "    </tr>\n",
       "    <tr>\n",
       "      <th>8</th>\n",
       "      <td>0134444302</td>\n",
       "      <td>Android How to Program</td>\n",
       "      <td>3</td>\n",
       "      <td>2017</td>\n",
       "    </tr>\n",
       "    <tr>\n",
       "      <th>9</th>\n",
       "      <td>0134289366</td>\n",
       "      <td>Android 6 for Programmers</td>\n",
       "      <td>3</td>\n",
       "      <td>2016</td>\n",
       "    </tr>\n",
       "  </tbody>\n",
       "</table>\n",
       "</div>"
      ],
      "text/plain": [
       "         isbn                             title  edition copyright\n",
       "0  0135404673     Intro to Python for CS and DS        1      2020\n",
       "1  0132151006     Internet & WWW How to Program        5      2012\n",
       "2  0134743350               Java How to Program       11      2018\n",
       "3  0133976890                  C How to Program        8      2016\n",
       "4  0133406954  Visual Basic 2012 How to Program        6      2014\n",
       "5  0134601548          Visual C# How to Program        6      2017\n",
       "6  0136151574         Visual C++ How to Program        2      2008\n",
       "7  0134448235                C++ How to Program       10      2017\n",
       "8  0134444302            Android How to Program        3      2017\n",
       "9  0134289366         Android 6 for Programmers        3      2016"
      ]
     },
     "execution_count": 13,
     "metadata": {},
     "output_type": "execute_result"
    }
   ],
   "source": [
    "pd.options.display.max_columns = 10\n",
    "pd.read_sql('SELECT * FROM titles', connection)"
   ]
  },
  {
   "cell_type": "code",
   "execution_count": 14,
   "id": "da7709cb-613e-4a6c-9605-fec5fb23ef6b",
   "metadata": {},
   "outputs": [],
   "source": [
    "cursor = connection.cursor()"
   ]
  },
  {
   "cell_type": "code",
   "execution_count": 15,
   "id": "c1399c15-1814-4df6-8920-b99279fe88d6",
   "metadata": {},
   "outputs": [],
   "source": [
    "cursor = cursor.execute(\"\"\"SELECT * FROM titles\"\"\")"
   ]
  },
  {
   "cell_type": "code",
   "execution_count": 16,
   "id": "dae1be28-0ddc-4294-8afa-67feb1eea5ba",
   "metadata": {},
   "outputs": [
    {
     "data": {
      "text/plain": [
       "[('0135404673', 'Intro to Python for CS and DS', 1, '2020'),\n",
       " ('0132151006', 'Internet & WWW How to Program', 5, '2012'),\n",
       " ('0134743350', 'Java How to Program', 11, '2018'),\n",
       " ('0133976890', 'C How to Program', 8, '2016'),\n",
       " ('0133406954', 'Visual Basic 2012 How to Program', 6, '2014'),\n",
       " ('0134601548', 'Visual C# How to Program', 6, '2017'),\n",
       " ('0136151574', 'Visual C++ How to Program', 2, '2008'),\n",
       " ('0134448235', 'C++ How to Program', 10, '2017'),\n",
       " ('0134444302', 'Android How to Program', 3, '2017'),\n",
       " ('0134289366', 'Android 6 for Programmers', 3, '2016')]"
      ]
     },
     "execution_count": 16,
     "metadata": {},
     "output_type": "execute_result"
    }
   ],
   "source": [
    "cursor.fetchall()"
   ]
  },
  {
   "cell_type": "code",
   "execution_count": 17,
   "id": "787ec125-a650-4a67-93f0-02add9d5397b",
   "metadata": {},
   "outputs": [
    {
     "data": {
      "text/plain": [
       "(('isbn', None, None, None, None, None, None),\n",
       " ('title', None, None, None, None, None, None),\n",
       " ('edition', None, None, None, None, None, None),\n",
       " ('copyright', None, None, None, None, None, None))"
      ]
     },
     "execution_count": 17,
     "metadata": {},
     "output_type": "execute_result"
    }
   ],
   "source": [
    "cursor.description"
   ]
  },
  {
   "cell_type": "code",
   "execution_count": null,
   "id": "380dd46b-d0f3-408c-bf7a-d4873b52bb90",
   "metadata": {},
   "outputs": [],
   "source": []
  }
 ],
 "metadata": {
  "kernelspec": {
   "display_name": "Python 3 (ipykernel)",
   "language": "python",
   "name": "python3"
  },
  "language_info": {
   "codemirror_mode": {
    "name": "ipython",
    "version": 3
   },
   "file_extension": ".py",
   "mimetype": "text/x-python",
   "name": "python",
   "nbconvert_exporter": "python",
   "pygments_lexer": "ipython3",
   "version": "3.9.7"
  }
 },
 "nbformat": 4,
 "nbformat_minor": 5
}
